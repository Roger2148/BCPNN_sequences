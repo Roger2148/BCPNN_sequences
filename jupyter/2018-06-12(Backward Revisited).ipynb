{
 "cells": [
  {
   "cell_type": "markdown",
   "metadata": {},
   "source": [
    "# Backward revisited"
   ]
  },
  {
   "cell_type": "code",
   "execution_count": null,
   "metadata": {
    "collapsed": true
   },
   "outputs": [],
   "source": [
    "import pprint\n",
    "import subprocess\n",
    "import sys \n",
    "sys.path.append('../')\n",
    "\n",
    "import numpy as np\n",
    "import scipy as sp\n",
    "import matplotlib.pyplot as plt\n",
    "import matplotlib\n",
    "import matplotlib.gridspec as gridspec\n",
    "from mpl_toolkits.axes_grid1 import make_axes_locatable\n",
    "import seaborn as sns\n",
    "\n",
    "%matplotlib inline\n",
    "plt.rcParams['figure.figsize'] = (12.9, 12)\n",
    "\n",
    "np.set_printoptions(suppress=True, precision=5)\n",
    "\n",
    "sns.set(font_scale=3.5)\n",
    "\n",
    "from network import Protocol, NetworkManager, BCPNNPerfect, TimedInput\n",
    "from connectivity_functions import create_orthogonal_canonical_representation, build_network_representation\n",
    "from connectivity_functions import get_weights_from_probabilities, get_probabilities_from_network_representation\n",
    "from connectivity_functions import create_matrix_from_sequences_representation, produce_overlaped_sequences\n",
    "from analysis_functions import calculate_recall_time_quantities, get_weights\n",
    "from analysis_functions import get_weights_collections\n",
    "from plotting_functions import plot_network_activity_angle, plot_weight_matrix\n",
    "from analysis_functions import calculate_angle_from_history, calculate_winning_pattern_from_distances\n",
    "from analysis_functions import calculate_patterns_timings, calculate_recall_success_nr, calculate_T_persistence\n",
    "\n",
    "epsilon = 10e-80"
   ]
  },
  {
   "cell_type": "markdown",
   "metadata": {},
   "source": [
    "## An example"
   ]
  },
  {
   "cell_type": "code",
   "execution_count": null,
   "metadata": {
    "collapsed": true
   },
   "outputs": [],
   "source": []
  }
 ],
 "metadata": {
  "kernelspec": {
   "display_name": "Python 3",
   "language": "python",
   "name": "python3"
  },
  "language_info": {
   "codemirror_mode": {
    "name": "ipython",
    "version": 3
   },
   "file_extension": ".py",
   "mimetype": "text/x-python",
   "name": "python",
   "nbconvert_exporter": "python",
   "pygments_lexer": "ipython3",
   "version": "3.6.2"
  }
 },
 "nbformat": 4,
 "nbformat_minor": 1
}
